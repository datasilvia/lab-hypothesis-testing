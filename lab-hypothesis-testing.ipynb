{
 "cells": [
  {
   "cell_type": "markdown",
   "metadata": {},
   "source": [
    "# Lab | Hypothesis Testing"
   ]
  },
  {
   "cell_type": "markdown",
   "metadata": {},
   "source": [
    "**Objective**\n",
    "\n",
    "Welcome to the Hypothesis Testing Lab, where we embark on an enlightening journey through the realm of statistical decision-making! In this laboratory, we delve into various scenarios, applying the powerful tools of hypothesis testing to scrutinize and interpret data.\n",
    "\n",
    "From testing the mean of a single sample (One Sample T-Test), to investigating differences between independent groups (Two Sample T-Test), and exploring relationships within dependent samples (Paired Sample T-Test), our exploration knows no bounds. Furthermore, we'll venture into the realm of Analysis of Variance (ANOVA), unraveling the complexities of comparing means across multiple groups.\n",
    "\n",
    "So, grab your statistical tools, prepare your hypotheses, and let's embark on this fascinating journey of exploration and discovery in the world of hypothesis testing!"
   ]
  },
  {
   "cell_type": "markdown",
   "metadata": {},
   "source": [
    "**Challenge 1**"
   ]
  },
  {
   "cell_type": "markdown",
   "metadata": {},
   "source": [
    "In this challenge, we will be working with pokemon data. The data can be found here:\n",
    "\n",
    "- https://raw.githubusercontent.com/data-bootcamp-v4/data/main/pokemon.csv"
   ]
  },
  {
   "cell_type": "code",
   "execution_count": null,
   "metadata": {},
   "outputs": [],
   "source": [
    "#libraries\n",
    "import pandas as pd\n",
    "import scipy.stats as st\n",
    "import numpy as np\n",
    "\n"
   ]
  },
  {
   "cell_type": "code",
   "execution_count": null,
   "metadata": {},
   "outputs": [],
   "source": [
    "df = pd.read_csv(\"https://raw.githubusercontent.com/data-bootcamp-v4/data/main/pokemon.csv\")\n",
    "df"
   ]
  },
  {
   "cell_type": "markdown",
   "metadata": {},
   "source": [
    "- We posit that Pokemons of type Dragon have, on average, more HP stats than Grass. Choose the propper test and, with 5% significance, comment your findings."
   ]
  },
  {
   "cell_type": "code",
   "execution_count": null,
   "metadata": {},
   "outputs": [],
   "source": [
    "from scipy.stats import ttest_ind\n",
    "\n",
    "# Prueba t de Student (sin especificar 'alternative')\n",
    "t_stat, p_value_two_tailed = ttest_ind(dragon_hp, grass_hp, equal_var=True)\n",
    "\n",
    "# Ajustar el p-valor para una prueba unilateral\n",
    "p_value_one_tailed = p_value_two_tailed / 2 if t_stat > 0 else 1.0\n",
    "\n",
    "print(\"\\nPrueba t de Student (unilateral):\")\n",
    "print(f\"t-stat = {t_stat}, p-value (unilateral) = {p_value_one_tailed}\")\n",
    "\n",
    "# Interpretación de resultados\n",
    "alpha = 0.05\n",
    "if p_value_one_tailed < alpha:\n",
    "    print(\"\\nConclusión: Rechazamos la hipótesis nula. Los Pokémon de tipo Dragon tienen, en promedio, más HP que los de tipo Grass.\")\n",
    "else:\n",
    "    print(\"\\nConclusión: No hay suficiente evidencia para rechazar la hipótesis nula. No podemos afirmar que los Pokémon de tipo Dragon tienen más HP que los de tipo Grass.\")"
   ]
  },
  {
   "cell_type": "markdown",
   "metadata": {},
   "source": [
    "- We posit that Legendary Pokemons have different stats (HP, Attack, Defense, Sp.Atk, Sp.Def, Speed) when comparing with Non-Legendary. Choose the propper test and, with 5% significance, comment your findings.\n"
   ]
  },
  {
   "cell_type": "code",
   "execution_count": null,
   "metadata": {},
   "outputs": [],
   "source": [
    "#code here\n",
    "from scipy.stats import ttest_ind, shapiro, levene\n",
    "\n",
    "# Seleccionar columnas relevantes\n",
    "stats = ['HP', 'Attack', 'Defense', 'Sp. Atk', 'Sp. Def', 'Speed']\n",
    "\n",
    "# Separar datos por legendarios y no legendarios\n",
    "legendary = df[df['Legendary'] == True]\n",
    "non_legendary = df[df['Legendary'] == False]\n",
    "\n",
    "# Iterar sobre cada estadística\n",
    "for stat in stats:\n",
    "    print(f\"\\nAnalizando {stat}:\")\n",
    "\n",
    "    # Datos de cada grupo\n",
    "    legendary_stat = legendary[stat]\n",
    "    non_legendary_stat = non_legendary[stat]\n",
    "\n",
    "    # Prueba de normalidad\n",
    "    normal_legendary = shapiro(legendary_stat)\n",
    "    normal_non_legendary = shapiro(non_legendary_stat)\n",
    "    print(f\"Prueba de normalidad - Legendary: p={normal_legendary.pvalue}, Non-Legendary: p={normal_non_legendary.pvalue}\")\n",
    "\n",
    "    # Prueba de homogeneidad de varianzas\n",
    "    var_test = levene(legendary_stat, non_legendary_stat)\n",
    "    print(f\"Prueba de homogeneidad de varianzas: p={var_test.pvalue}\")\n",
    "\n",
    "    # Prueba t de Student\n",
    "    t_stat, p_value = ttest_ind(legendary_stat, non_legendary_stat, equal_var=(var_test.pvalue > 0.05))\n",
    "    print(f\"Prueba t: t-stat={t_stat}, p-value={p_value}\")\n",
    "\n",
    "    # Conclusión\n",
    "    if p_value < 0.05:\n",
    "        print(f\"Conclusión: Rechazamos H0. Hay diferencias significativas en {stat} entre Pokémon Legendarios y No Legendarios.\")\n",
    "    else:\n",
    "        print(f\"Conclusión: No hay evidencia suficiente para rechazar H0. No hay diferencias significativas en {stat} entre Pokémon Legendarios y No Legendarios.\")"
   ]
  },
  {
   "cell_type": "markdown",
   "metadata": {},
   "source": [
    "**Challenge 2**"
   ]
  },
  {
   "cell_type": "markdown",
   "metadata": {},
   "source": [
    "In this challenge, we will be working with california-housing data. The data can be found here:\n",
    "- https://raw.githubusercontent.com/data-bootcamp-v4/data/main/california_housing.csv"
   ]
  },
  {
   "cell_type": "code",
   "execution_count": null,
   "metadata": {},
   "outputs": [],
   "source": [
    "df = pd.read_csv(\"https://raw.githubusercontent.com/data-bootcamp-v4/data/main/california_housing.csv\")\n",
    "df.head()"
   ]
  },
  {
   "cell_type": "markdown",
   "metadata": {},
   "source": [
    "**We posit that houses close to either a school or a hospital are more expensive.**\n",
    "\n",
    "- School coordinates (-118, 34)\n",
    "- Hospital coordinates (-122, 37)\n",
    "\n",
    "We consider a house (neighborhood) to be close to a school or hospital if the distance is lower than 0.50.\n",
    "\n",
    "Hint:\n",
    "- Write a function to calculate euclidean distance from each house (neighborhood) to the school and to the hospital.\n",
    "- Divide your dataset into houses close and far from either a hospital or school.\n",
    "- Choose the propper test and, with 5% significance, comment your findings.\n",
    " "
   ]
  },
  {
   "cell_type": "code",
   "execution_count": null,
   "metadata": {},
   "outputs": [],
   "source": [
    "# Prueba t de Student (sin 'alternative')\n",
    "t_stat, p_value_two_tailed = ttest_ind(close_prices, far_prices, equal_var=True)\n",
    "\n",
    "# Ajustar el p-valor para una prueba unilateral\n",
    "p_value_one_tailed = p_value_two_tailed / 2 if t_stat > 0 else 1.0\n",
    "\n",
    "# Resultados\n",
    "print(\"Prueba t de Student:\")\n",
    "print(f\"t-stat = {t_stat}, p-value (unilateral) = {p_value_one_tailed}\")\n",
    "\n",
    "# Interpretación\n",
    "alpha = 0.05\n",
    "if p_value_one_tailed < alpha:\n",
    "    print(\"\\nConclusión: Rechazamos H0. Las casas cercanas a una escuela o un hospital son significativamente más caras.\")\n",
    "else:\n",
    "    print(\"\\nConclusión: No hay suficiente evidencia para rechazar H0. No podemos afirmar que las casas cercanas a una escuela o un hospital son más caras.\")"
   ]
  }
 ],
 "metadata": {
  "kernelspec": {
   "display_name": "base",
   "language": "python",
   "name": "python3"
  },
  "language_info": {
   "codemirror_mode": {
    "name": "ipython",
    "version": 3
   },
   "file_extension": ".py",
   "mimetype": "text/x-python",
   "name": "python",
   "nbconvert_exporter": "python",
   "pygments_lexer": "ipython3",
   "version": "3.12.4"
  }
 },
 "nbformat": 4,
 "nbformat_minor": 2
}
